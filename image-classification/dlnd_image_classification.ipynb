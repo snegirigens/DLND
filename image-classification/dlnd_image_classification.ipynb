{
 "cells": [
  {
   "cell_type": "markdown",
   "metadata": {
    "collapsed": true,
    "deletable": true,
    "editable": true
   },
   "source": [
    "# Image Classification\n",
    "In this project, you'll classify images from the [CIFAR-10 dataset](https://www.cs.toronto.edu/~kriz/cifar.html).  The dataset consists of airplanes, dogs, cats, and other objects. You'll preprocess the images, then train a convolutional neural network on all the samples. The images need to be normalized and the labels need to be one-hot encoded.  You'll get to apply what you learned and build a convolutional, max pooling, dropout, and fully connected layers.  At the end, you'll get to see your neural network's predictions on the sample images.\n",
    "## Get the Data\n",
    "Run the following cell to download the [CIFAR-10 dataset for python](https://www.cs.toronto.edu/~kriz/cifar-10-python.tar.gz)."
   ]
  },
  {
   "cell_type": "code",
   "execution_count": 1,
   "metadata": {
    "collapsed": false,
    "deletable": true,
    "editable": true
   },
   "outputs": [
    {
     "name": "stdout",
     "output_type": "stream",
     "text": [
      "All files found!\n"
     ]
    }
   ],
   "source": [
    "\"\"\"\n",
    "DON'T MODIFY ANYTHING IN THIS CELL THAT IS BELOW THIS LINE\n",
    "\"\"\"\n",
    "from urllib.request import urlretrieve\n",
    "from os.path import isfile, isdir\n",
    "from tqdm import tqdm\n",
    "import problem_unittests as tests\n",
    "import tarfile\n",
    "\n",
    "cifar10_dataset_folder_path = 'cifar-10-batches-py'\n",
    "\n",
    "class DLProgress(tqdm):\n",
    "    last_block = 0\n",
    "\n",
    "    def hook(self, block_num=1, block_size=1, total_size=None):\n",
    "        self.total = total_size\n",
    "        self.update((block_num - self.last_block) * block_size)\n",
    "        self.last_block = block_num\n",
    "\n",
    "if not isfile('cifar-10-python.tar.gz'):\n",
    "    with DLProgress(unit='B', unit_scale=True, miniters=1, desc='CIFAR-10 Dataset') as pbar:\n",
    "        urlretrieve(\n",
    "            'https://www.cs.toronto.edu/~kriz/cifar-10-python.tar.gz',\n",
    "            'cifar-10-python.tar.gz',\n",
    "            pbar.hook)\n",
    "\n",
    "if not isdir(cifar10_dataset_folder_path):\n",
    "    with tarfile.open('cifar-10-python.tar.gz') as tar:\n",
    "        tar.extractall()\n",
    "        tar.close()\n",
    "\n",
    "\n",
    "tests.test_folder_path(cifar10_dataset_folder_path)"
   ]
  },
  {
   "cell_type": "markdown",
   "metadata": {
    "deletable": true,
    "editable": true
   },
   "source": [
    "## Explore the Data\n",
    "The dataset is broken into batches to prevent your machine from running out of memory.  The CIFAR-10 dataset consists of 5 batches, named `data_batch_1`, `data_batch_2`, etc.. Each batch contains the labels and images that are one of the following:\n",
    "* airplane\n",
    "* automobile\n",
    "* bird\n",
    "* cat\n",
    "* deer\n",
    "* dog\n",
    "* frog\n",
    "* horse\n",
    "* ship\n",
    "* truck\n",
    "\n",
    "Understanding a dataset is part of making predictions on the data.  Play around with the code cell below by changing the `batch_id` and `sample_id`. The `batch_id` is the id for a batch (1-5). The `sample_id` is the id for a image and label pair in the batch.\n",
    "\n",
    "Ask yourself \"What are all possible labels?\", \"What is the range of values for the image data?\", \"Are the labels in order or random?\".  Answers to questions like these will help you preprocess the data and end up with better predictions."
   ]
  },
  {
   "cell_type": "code",
   "execution_count": 2,
   "metadata": {
    "collapsed": false,
    "deletable": true,
    "editable": true
   },
   "outputs": [
    {
     "name": "stdout",
     "output_type": "stream",
     "text": [
      "\n",
      "Stats of batch 1:\n",
      "Samples: 10000\n",
      "Label Counts: {0: 1005, 1: 974, 2: 1032, 3: 1016, 4: 999, 5: 937, 6: 1030, 7: 1001, 8: 1025, 9: 981}\n",
      "First 20 Labels: [6, 9, 9, 4, 1, 1, 2, 7, 8, 3, 4, 7, 7, 2, 9, 9, 9, 3, 2, 6]\n",
      "\n",
      "Example of Image 5:\n",
      "Image - Min Value: 0 Max Value: 252\n",
      "Image - Shape: (32, 32, 3)\n",
      "Label - Label Id: 1 Name: automobile\n"
     ]
    },
    {
     "data": {
      "image/png": "[encoded data removed]",
      "text/plain": [
       "<matplotlib.figure.Figure at 0x7f69800f46a0>"
      ]
     },
     "metadata": {
      "image/png": {
       "height": 250,
       "width": 253
      }
     },
     "output_type": "display_data"
    }
   ],
   "source": [
    "%matplotlib inline\n",
    "%config InlineBackend.figure_format = 'retina'\n",
    "\n",
    "import helper\n",
    "import numpy as np\n",
    "\n",
    "# Explore the dataset\n",
    "batch_id = 1\n",
    "sample_id = 5\n",
    "helper.display_stats(cifar10_dataset_folder_path, batch_id, sample_id)"
   ]
  },
  {
   "cell_type": "markdown",
   "metadata": {
    "deletable": true,
    "editable": true
   },
   "source": [
    "## Implement Preprocess Functions\n",
    "### Normalize\n",
    "In the cell below, implement the `normalize` function to take in image data, `x`, and return it as a normalized Numpy array. The values should be in the range of 0 to 1, inclusive.  The return object should be the same shape as `x`."
   ]
  },
  {
   "cell_type": "code",
   "execution_count": 3,
   "metadata": {
    "collapsed": false,
    "deletable": true,
    "editable": true
   },
   "outputs": [
    {
     "name": "stdout",
     "output_type": "stream",
     "text": [
      "Tests Passed\n"
     ]
    }
   ],
   "source": [
    "def normalize(x):\n",
    "    \"\"\"\n",
    "    Normalize a list of sample image data in the range of 0 to 1\n",
    "    : x: List of image data.  The image shape is (32, 32, 3)\n",
    "    : return: Numpy array of normalize data\n",
    "    \"\"\"\n",
    "    return x / 255\n",
    "\n",
    "\n",
    "\"\"\"\n",
    "DON'T MODIFY ANYTHING IN THIS CELL THAT IS BELOW THIS LINE\n",
    "\"\"\"\n",
    "tests.test_normalize(normalize)"
   ]
  },
  {
   "cell_type": "markdown",
   "metadata": {
    "deletable": true,
    "editable": true
   },
   "source": [
    "### One-hot encode\n",
    "Just like the previous code cell, you'll be implementing a function for preprocessing.  This time, you'll implement the `one_hot_encode` function. The input, `x`, are a list of labels.  Implement the function to return the list of labels as One-Hot encoded Numpy array.  The possible values for labels are 0 to 9. The one-hot encoding function should return the same encoding for each value between each call to `one_hot_encode`.  Make sure to save the map of encodings outside the function.\n",
    "\n",
    "Hint: Don't reinvent the wheel."
   ]
  },
  {
   "cell_type": "code",
   "execution_count": 4,
   "metadata": {
    "collapsed": false,
    "deletable": true,
    "editable": true
   },
   "outputs": [
    {
     "name": "stdout",
     "output_type": "stream",
     "text": [
      "Tests Passed\n"
     ]
    }
   ],
   "source": [
    "import numpy as np\n",
    "from sklearn import preprocessing\n",
    "\n",
    "lb = preprocessing.LabelBinarizer()\n",
    "labels = np.array(range(10))\n",
    "lb.fit(labels)\n",
    "\n",
    "def one_hot_encode(x):\n",
    "    \"\"\"\n",
    "    One hot encode a list of sample labels. Return a one-hot encoded vector for each label.\n",
    "    : x: List of sample Labels\n",
    "    : return: Numpy array of one-hot encoded labels\n",
    "    \"\"\"\n",
    "    return lb.transform(x)\n",
    "\n",
    "\n",
    "\"\"\"\n",
    "DON'T MODIFY ANYTHING IN THIS CELL THAT IS BELOW THIS LINE\n",
    "\"\"\"\n",
    "tests.test_one_hot_encode(one_hot_encode)"
   ]
  },
  {
   "cell_type": "markdown",
   "metadata": {
    "deletable": true,
    "editable": true
   },
   "source": [
    "### Randomize Data\n",
    "As you saw from exploring the data above, the order of the samples are randomized.  It doesn't hurt to randomize it again, but you don't need to for this dataset."
   ]
  },
  {
   "cell_type": "markdown",
   "metadata": {
    "deletable": true,
    "editable": true
   },
   "source": [
    "## Preprocess all the data and save it\n",
    "Running the code cell below will preprocess all the CIFAR-10 data and save it to file. The code below also uses 10% of the training data for validation."
   ]
  },
  {
   "cell_type": "code",
   "execution_count": 5,
   "metadata": {
    "collapsed": false,
    "deletable": true,
    "editable": true
   },
   "outputs": [],
   "source": [
    "\"\"\"\n",
    "DON'T MODIFY ANYTHING IN THIS CELL\n",
    "\"\"\"\n",
    "# Preprocess Training, Validation, and Testing Data\n",
    "helper.preprocess_and_save_data(cifar10_dataset_folder_path, normalize, one_hot_encode)"
   ]
  },
  {
   "cell_type": "markdown",
   "metadata": {
    "deletable": true,
    "editable": true
   },
   "source": [
    "# Check Point\n",
    "This is your first checkpoint.  If you ever decide to come back to this notebook or have to restart the notebook, you can start from here.  The preprocessed data has been saved to disk."
   ]
  },
  {
   "cell_type": "code",
   "execution_count": 6,
   "metadata": {
    "collapsed": true,
    "deletable": true,
    "editable": true
   },
   "outputs": [],
   "source": [
    "\"\"\"\n",
    "DON'T MODIFY ANYTHING IN THIS CELL\n",
    "\"\"\"\n",
    "import pickle\n",
    "import problem_unittests as tests\n",
    "import helper\n",
    "\n",
    "# Load the Preprocessed Validation data\n",
    "valid_features, valid_labels = pickle.load(open('preprocess_validation.p', mode='rb'))"
   ]
  },
  {
   "cell_type": "markdown",
   "metadata": {
    "deletable": true,
    "editable": true
   },
   "source": [
    "## Build the network\n",
    "For the neural network, you'll build each layer into a function.  Most of the code you've seen has been outside of functions. To test your code more thoroughly, we require that you put each layer in a function.  This allows us to give you better feedback and test for simple mistakes using our unittests before you submit your project.\n",
    "\n",
    ">**Note:** If you're finding it hard to dedicate enough time for this course each week, we've provided a small shortcut to this part of the project. In the next couple of problems, you'll have the option to use classes from the [TensorFlow Layers](https://www.tensorflow.org/api_docs/python/tf/layers) or [TensorFlow Layers (contrib)](https://www.tensorflow.org/api_guides/python/contrib.layers) packages to build each layer, except the layers you build in the \"Convolutional and Max Pooling Layer\" section.  TF Layers is similar to Keras's and TFLearn's abstraction to layers, so it's easy to pickup.\n",
    "\n",
    ">However, if you would like to get the most out of this course, try to solve all the problems _without_ using anything from the TF Layers packages. You **can** still use classes from other packages that happen to have the same name as ones you find in TF Layers! For example, instead of using the TF Layers version of the `conv2d` class, [tf.layers.conv2d](https://www.tensorflow.org/api_docs/python/tf/layers/conv2d), you would want to use the TF Neural Network version of `conv2d`, [tf.nn.conv2d](https://www.tensorflow.org/api_docs/python/tf/nn/conv2d). \n",
    "\n",
    "Let's begin!\n",
    "\n",
    "### Input\n",
    "The neural network needs to read the image data, one-hot encoded labels, and dropout keep probability. Implement the following functions\n",
    "* Implement `neural_net_image_input`\n",
    " * Return a [TF Placeholder](https://www.tensorflow.org/api_docs/python/tf/placeholder)\n",
    " * Set the shape using `image_shape` with batch size set to `None`.\n",
    " * Name the TensorFlow placeholder \"x\" using the TensorFlow `name` parameter in the [TF Placeholder](https://www.tensorflow.org/api_docs/python/tf/placeholder).\n",
    "* Implement `neural_net_label_input`\n",
    " * Return a [TF Placeholder](https://www.tensorflow.org/api_docs/python/tf/placeholder)\n",
    " * Set the shape using `n_classes` with batch size set to `None`.\n",
    " * Name the TensorFlow placeholder \"y\" using the TensorFlow `name` parameter in the [TF Placeholder](https://www.tensorflow.org/api_docs/python/tf/placeholder).\n",
    "* Implement `neural_net_keep_prob_input`\n",
    " * Return a [TF Placeholder](https://www.tensorflow.org/api_docs/python/tf/placeholder) for dropout keep probability.\n",
    " * Name the TensorFlow placeholder \"keep_prob\" using the TensorFlow `name` parameter in the [TF Placeholder](https://www.tensorflow.org/api_docs/python/tf/placeholder).\n",
    "\n",
    "These names will be used at the end of the project to load your saved model.\n",
    "\n",
    "Note: `None` for shapes in TensorFlow allow for a dynamic size."
   ]
  },
  {
   "cell_type": "code",
   "execution_count": 7,
   "metadata": {
    "collapsed": false,
    "deletable": true,
    "editable": true
   },
   "outputs": [
    {
     "name": "stdout",
     "output_type": "stream",
     "text": [
      "Image Input Tests Passed.\n",
      "Label Input Tests Passed.\n",
      "Keep Prob Tests Passed.\n"
     ]
    }
   ],
   "source": [
    "import tensorflow as tf\n",
    "\n",
    "def neural_net_image_input(image_shape):\n",
    "    \"\"\"\n",
    "    Return a Tensor for a batch of image input\n",
    "    : image_shape: Shape of the images\n",
    "    : return: Tensor for image input.\n",
    "    \"\"\"\n",
    "    # TODO: Implement Function\n",
    "    shape = list(image_shape)\n",
    "    shape.insert (0, None)\n",
    "    return tf.placeholder (tf.float32, shape=shape, name='x')\n",
    "\n",
    "\n",
    "def neural_net_label_input(n_classes):\n",
    "    \"\"\"\n",
    "    Return a Tensor for a batch of label input\n",
    "    : n_classes: Number of classes\n",
    "    : return: Tensor for label input.\n",
    "    \"\"\"\n",
    "    # TODO: Implement Function\n",
    "    return tf.placeholder (tf.float32, shape=[None, n_classes], name='y')\n",
    "\n",
    "\n",
    "def neural_net_keep_prob_input():\n",
    "    \"\"\"\n",
    "    Return a Tensor for keep probability\n",
    "    : return: Tensor for keep probability.\n",
    "    \"\"\"\n",
    "    # TODO: Implement Function\n",
    "    return tf.placeholder (tf.float32, name='keep_prob')\n",
    "\n",
    "\n",
    "\"\"\"\n",
    "DON'T MODIFY ANYTHING IN THIS CELL THAT IS BELOW THIS LINE\n",
    "\"\"\"\n",
    "tf.reset_default_graph()\n",
    "tests.test_nn_image_inputs(neural_net_image_input)\n",
    "tests.test_nn_label_inputs(neural_net_label_input)\n",
    "tests.test_nn_keep_prob_inputs(neural_net_keep_prob_input)"
   ]
  },
  {
   "cell_type": "markdown",
   "metadata": {
    "deletable": true,
    "editable": true
   },
   "source": [
    "### Convolution and Max Pooling Layer\n",
    "Convolution layers have a lot of success with images. For this code cell, you should implement the function `conv2d_maxpool` to apply convolution then max pooling:\n",
    "* Create the weight and bias using `conv_ksize`, `conv_num_outputs` and the shape of `x_tensor`.\n",
    "* Apply a convolution to `x_tensor` using weight and `conv_strides`.\n",
    " * We recommend you use same padding, but you're welcome to use any padding.\n",
    "* Add bias\n",
    "* Add a nonlinear activation to the convolution.\n",
    "* Apply Max Pooling using `pool_ksize` and `pool_strides`.\n",
    " * We recommend you use same padding, but you're welcome to use any padding.\n",
    "\n",
    "**Note:** You **can't** use [TensorFlow Layers](https://www.tensorflow.org/api_docs/python/tf/layers) or [TensorFlow Layers (contrib)](https://www.tensorflow.org/api_guides/python/contrib.layers) for **this** layer, but you can still use TensorFlow's [Neural Network](https://www.tensorflow.org/api_docs/python/tf/nn) package. You may still use the shortcut option for all the **other** layers."
   ]
  },
  {
   "cell_type": "code",
   "execution_count": 8,
   "metadata": {
    "collapsed": false,
    "deletable": true,
    "editable": true
   },
   "outputs": [
    {
     "name": "stdout",
     "output_type": "stream",
     "text": [
      "Tests Passed\n"
     ]
    }
   ],
   "source": [
    "def conv2d_maxpool(x_tensor, conv_num_outputs, conv_ksize, conv_strides, pool_ksize, pool_strides):\n",
    "    \"\"\"\n",
    "    Apply convolution then max pooling to x_tensor\n",
    "    :param x_tensor: TensorFlow Tensor\n",
    "    :param conv_num_outputs: Number of outputs for the convolutional layer\n",
    "    :param conv_ksize: kernal size 2-D Tuple for the convolutional layer\n",
    "    :param conv_strides: Stride 2-D Tuple for convolution\n",
    "    :param pool_ksize: kernal size 2-D Tuple for pool\n",
    "    :param pool_strides: Stride 2-D Tuple for pool\n",
    "    : return: A tensor that represents convolution and max pooling of x_tensor\n",
    "    \"\"\"\n",
    "    # TODO: Implement Function\n",
    "    input_shape = [conv_ksize[0], conv_ksize[1], x_tensor.get_shape().as_list()[3], conv_num_outputs]\n",
    "    weights = tf.Variable (tf.truncated_normal (input_shape, dtype=tf.float32))\n",
    "    biases  = tf.Variable (tf.zeros (conv_num_outputs, dtype=tf.float32))\n",
    "    strides = [1, conv_strides[0], conv_strides[1], 1]\n",
    "    \n",
    "    conv = tf.nn.conv2d (x_tensor, weights, strides=strides, padding='SAME')\n",
    "    conv = tf.nn.bias_add (conv, biases)\n",
    "    conv = tf.nn.relu (conv)\n",
    "    \n",
    "    ksize = [1, pool_ksize[0], pool_ksize[1], 1]\n",
    "    strides = [1, pool_strides[0], pool_strides[1], 1]\n",
    "    maxpool = tf.nn.max_pool (conv, ksize=ksize, strides=strides, padding='SAME')\n",
    "    return maxpool \n",
    "\n",
    "\n",
    "\"\"\"\n",
    "DON'T MODIFY ANYTHING IN THIS CELL THAT IS BELOW THIS LINE\n",
    "\"\"\"\n",
    "tests.test_con_pool(conv2d_maxpool)"
   ]
  },
  {
   "cell_type": "markdown",
   "metadata": {
    "deletable": true,
    "editable": true
   },
   "source": [
    "### Flatten Layer\n",
    "Implement the `flatten` function to change the dimension of `x_tensor` from a 4-D tensor to a 2-D tensor.  The output should be the shape (*Batch Size*, *Flattened Image Size*). Shortcut option: you can use classes from the [TensorFlow Layers](https://www.tensorflow.org/api_docs/python/tf/layers) or [TensorFlow Layers (contrib)](https://www.tensorflow.org/api_guides/python/contrib.layers) packages for this layer. For more of a challenge, only use other TensorFlow packages."
   ]
  },
  {
   "cell_type": "code",
   "execution_count": 9,
   "metadata": {
    "collapsed": false,
    "deletable": true,
    "editable": true
   },
   "outputs": [
    {
     "name": "stdout",
     "output_type": "stream",
     "text": [
      "Tests Passed\n"
     ]
    }
   ],
   "source": [
    "import operator\n",
    "import functools\n",
    "\n",
    "def flatten(x_tensor):\n",
    "    \"\"\"\n",
    "    Flatten x_tensor to (Batch Size, Flattened Image Size)\n",
    "    : x_tensor: A tensor of size (Batch Size, ...), where ... are the image dimensions.\n",
    "    : return: A tensor of size (Batch Size, Flattened Image Size).\n",
    "    \"\"\"\n",
    "    # TODO: Implement Function\n",
    "    image_size = functools.reduce(operator.mul, x_tensor.get_shape().as_list()[1:], 1)\n",
    "    return tf.reshape (x_tensor, [-1, image_size])\n",
    "\n",
    "\n",
    "\"\"\"\n",
    "DON'T MODIFY ANYTHING IN THIS CELL THAT IS BELOW THIS LINE\n",
    "\"\"\"\n",
    "tests.test_flatten(flatten)"
   ]
  },
  {
   "cell_type": "markdown",
   "metadata": {
    "deletable": true,
    "editable": true
   },
   "source": [
    "### Fully-Connected Layer\n",
    "Implement the `fully_conn` function to apply a fully connected layer to `x_tensor` with the shape (*Batch Size*, *num_outputs*). Shortcut option: you can use classes from the [TensorFlow Layers](https://www.tensorflow.org/api_docs/python/tf/layers) or [TensorFlow Layers (contrib)](https://www.tensorflow.org/api_guides/python/contrib.layers) packages for this layer. For more of a challenge, only use other TensorFlow packages."
   ]
  },
  {
   "cell_type": "code",
   "execution_count": 10,
   "metadata": {
    "collapsed": false,
    "deletable": true,
    "editable": true
   },
   "outputs": [
    {
     "name": "stdout",
     "output_type": "stream",
     "text": [
      "Tests Passed\n"
     ]
    }
   ],
   "source": [
    "def fully_conn(x_tensor, num_outputs):\n",
    "    \"\"\"\n",
    "    Apply a fully connected layer to x_tensor using weight and bias\n",
    "    : x_tensor: A 2-D tensor where the first dimension is batch size.\n",
    "    : num_outputs: The number of output that the new tensor should be.\n",
    "    : return: A 2-D tensor where the second dimension is num_outputs.\n",
    "    \"\"\"\n",
    "    # TODO: Implement Function\n",
    "    weights = tf.Variable (tf.truncated_normal ([x_tensor.get_shape().as_list()[1], num_outputs], dtype=tf.float32))\n",
    "    biases  = tf.Variable (tf.zeros (num_outputs, dtype=tf.float32))\n",
    "    activations = tf.add (tf.matmul (x_tensor, weights), biases)\n",
    "    return tf.nn.relu (activations)\n",
    "\n",
    "\"\"\"\n",
    "DON'T MODIFY ANYTHING IN THIS CELL THAT IS BELOW THIS LINE\n",
    "\"\"\"\n",
    "tests.test_fully_conn(fully_conn)"
   ]
  },
  {
   "cell_type": "markdown",
   "metadata": {
    "deletable": true,
    "editable": true
   },
   "source": [
    "### Output Layer\n",
    "Implement the `output` function to apply a fully connected layer to `x_tensor` with the shape (*Batch Size*, *num_outputs*). Shortcut option: you can use classes from the [TensorFlow Layers](https://www.tensorflow.org/api_docs/python/tf/layers) or [TensorFlow Layers (contrib)](https://www.tensorflow.org/api_guides/python/contrib.layers) packages for this layer. For more of a challenge, only use other TensorFlow packages.\n",
    "\n",
    "**Note:** Activation, softmax, or cross entropy should **not** be applied to this."
   ]
  },
  {
   "cell_type": "code",
   "execution_count": 11,
   "metadata": {
    "collapsed": false,
    "deletable": true,
    "editable": true
   },
   "outputs": [
    {
     "name": "stdout",
     "output_type": "stream",
     "text": [
      "Tests Passed\n"
     ]
    }
   ],
   "source": [
    "def output(x_tensor, num_outputs):\n",
    "    \"\"\"\n",
    "    Apply a output layer to x_tensor using weight and bias\n",
    "    : x_tensor: A 2-D tensor where the first dimension is batch size.\n",
    "    : num_outputs: The number of output that the new tensor should be.\n",
    "    : return: A 2-D tensor where the second dimension is num_outputs.\n",
    "    \"\"\"\n",
    "    # TODO: Implement Function\n",
    "    weights = tf.Variable (tf.truncated_normal ([x_tensor.get_shape().as_list()[1], num_outputs], dtype=tf.float32))\n",
    "    biases  = tf.Variable (tf.zeros (num_outputs, dtype=tf.float32))\n",
    "    return tf.add (tf.matmul (x_tensor, weights), biases)\n",
    "\n",
    "\n",
    "\"\"\"\n",
    "DON'T MODIFY ANYTHING IN THIS CELL THAT IS BELOW THIS LINE\n",
    "\"\"\"\n",
    "tests.test_output(output)"
   ]
  },
  {
   "cell_type": "markdown",
   "metadata": {
    "deletable": true,
    "editable": true
   },
   "source": [
    "### Create Convolutional Model\n",
    "Implement the function `conv_net` to create a convolutional neural network model. The function takes in a batch of images, `x`, and outputs logits.  Use the layers you created above to create this model:\n",
    "\n",
    "* Apply 1, 2, or 3 Convolution and Max Pool layers\n",
    "* Apply a Flatten Layer\n",
    "* Apply 1, 2, or 3 Fully Connected Layers\n",
    "* Apply an Output Layer\n",
    "* Return the output\n",
    "* Apply [TensorFlow's Dropout](https://www.tensorflow.org/api_docs/python/tf/nn/dropout) to one or more layers in the model using `keep_prob`. "
   ]
  },
  {
   "cell_type": "code",
   "execution_count": 12,
   "metadata": {
    "collapsed": false,
    "deletable": true,
    "editable": true
   },
   "outputs": [
    {
     "name": "stdout",
     "output_type": "stream",
     "text": [
      "Neural Network Built!\n"
     ]
    }
   ],
   "source": [
    "def conv_net(x, keep_prob):\n",
    "    \"\"\"\n",
    "    Create a convolutional neural network model\n",
    "    : x: Placeholder tensor that holds image data.\n",
    "    : keep_prob: Placeholder tensor that hold dropout keep probability.\n",
    "    : return: Tensor that represents logits\n",
    "    \"\"\"\n",
    "    # TODO: Apply 1, 2, or 3 Convolution and Max Pool layers\n",
    "    #    Play around with different number of outputs, kernel size and stride\n",
    "    # Function Definition from Above:\n",
    "    #    conv2d_maxpool(x_tensor, conv_num_outputs, conv_ksize, conv_strides, pool_ksize, pool_strides)\n",
    "    conv1 = conv2d_maxpool (x, conv_num_outputs=64, conv_ksize=(8,8), conv_strides=(2,2), pool_ksize=(2,2), pool_strides=(2,2))\n",
    "    conv2 = conv2d_maxpool (conv1, conv_num_outputs=128, conv_ksize=(6,6), conv_strides=(2,2), pool_ksize=(2,2), pool_strides=(2,2))\n",
    "#    conv3 = conv2d_maxpool (conv2, conv_num_outputs=36, conv_ksize=(4,4), conv_strides=(1,1), pool_ksize=(2,2), pool_strides=(1,1))\n",
    "\n",
    "    flat = flatten (conv2)\n",
    "    \n",
    "    conn1 = fully_conn (flat, 2048)\n",
    "    conn1 = tf.nn.dropout (conn1, keep_prob)\n",
    "\n",
    "    conn2 = fully_conn (conn1, 1024)\n",
    "    conn2 = tf.nn.dropout (conn2, keep_prob)\n",
    "\n",
    "    #    conn3 = fully_conn (conn2, 64)\n",
    "    \n",
    "    out = output (conn2, 10)\n",
    "    return out\n",
    "\n",
    "\n",
    "\"\"\"\n",
    "DON'T MODIFY ANYTHING IN THIS CELL THAT IS BELOW THIS LINE\n",
    "\"\"\"\n",
    "\n",
    "##############################\n",
    "## Build the Neural Network ##\n",
    "##############################\n",
    "\n",
    "# Remove previous weights, bias, inputs, etc..\n",
    "tf.reset_default_graph()\n",
    "\n",
    "# Inputs\n",
    "x = neural_net_image_input((32, 32, 3))\n",
    "y = neural_net_label_input(10)\n",
    "keep_prob = neural_net_keep_prob_input()\n",
    "\n",
    "# Model\n",
    "logits = conv_net(x, keep_prob)\n",
    "\n",
    "# Name logits Tensor, so that is can be loaded from disk after training\n",
    "logits = tf.identity(logits, name='logits')\n",
    "\n",
    "# Loss and Optimizer\n",
    "cost = tf.reduce_mean(tf.nn.softmax_cross_entropy_with_logits(logits=logits, labels=y))\n",
    "optimizer = tf.train.AdamOptimizer().minimize(cost)\n",
    "\n",
    "# Accuracy\n",
    "correct_pred = tf.equal(tf.argmax(logits, 1), tf.argmax(y, 1))\n",
    "accuracy = tf.reduce_mean(tf.cast(correct_pred, tf.float32), name='accuracy')\n",
    "\n",
    "tests.test_conv_net(conv_net)"
   ]
  },
  {
   "cell_type": "markdown",
   "metadata": {
    "deletable": true,
    "editable": true
   },
   "source": [
    "## Train the Neural Network\n",
    "### Single Optimization\n",
    "Implement the function `train_neural_network` to do a single optimization.  The optimization should use `optimizer` to optimize in `session` with a `feed_dict` of the following:\n",
    "* `x` for image input\n",
    "* `y` for labels\n",
    "* `keep_prob` for keep probability for dropout\n",
    "\n",
    "This function will be called for each batch, so `tf.global_variables_initializer()` has already been called.\n",
    "\n",
    "Note: Nothing needs to be returned. This function is only optimizing the neural network."
   ]
  },
  {
   "cell_type": "code",
   "execution_count": 13,
   "metadata": {
    "collapsed": false,
    "deletable": true,
    "editable": true
   },
   "outputs": [
    {
     "name": "stdout",
     "output_type": "stream",
     "text": [
      "Tests Passed\n"
     ]
    }
   ],
   "source": [
    "def train_neural_network(session, optimizer, keep_probability, feature_batch, label_batch):\n",
    "    \"\"\"\n",
    "    Optimize the session on a batch of images and labels\n",
    "    : session: Current TensorFlow session\n",
    "    : optimizer: TensorFlow optimizer function\n",
    "    : keep_probability: keep probability\n",
    "    : feature_batch: Batch of Numpy image data\n",
    "    : label_batch: Batch of Numpy label data\n",
    "    \"\"\"\n",
    "    # TODO: Implement Function\n",
    "    session.run (optimizer, feed_dict={x:feature_batch, y:label_batch, keep_prob:keep_probability})\n",
    "\n",
    "\n",
    "\"\"\"\n",
    "DON'T MODIFY ANYTHING IN THIS CELL THAT IS BELOW THIS LINE\n",
    "\"\"\"\n",
    "tests.test_train_nn(train_neural_network)"
   ]
  },
  {
   "cell_type": "markdown",
   "metadata": {
    "deletable": true,
    "editable": true
   },
   "source": [
    "### Show Stats\n",
    "Implement the function `print_stats` to print loss and validation accuracy.  Use the global variables `valid_features` and `valid_labels` to calculate validation accuracy.  Use a keep probability of `1.0` to calculate the loss and validation accuracy."
   ]
  },
  {
   "cell_type": "code",
   "execution_count": 14,
   "metadata": {
    "collapsed": false,
    "deletable": true,
    "editable": true
   },
   "outputs": [],
   "source": [
    "def print_stats(session, feature_batch, label_batch, cost, accuracy):\n",
    "    \"\"\"\n",
    "    Print information about loss and validation accuracy\n",
    "    : session: Current TensorFlow session\n",
    "    : feature_batch: Batch of Numpy image data\n",
    "    : label_batch: Batch of Numpy label data\n",
    "    : cost: TensorFlow cost function\n",
    "    : accuracy: TensorFlow accuracy function\n",
    "    \"\"\"\n",
    "    # TODO: Implement Function\n",
    "    loss = session.run (cost, feed_dict={x:feature_batch, y:label_batch, keep_prob:1.0})\n",
    "    valid_acc = session.run (accuracy, feed_dict={x:valid_features, y:valid_labels, keep_prob:1.0})\n",
    "    print ('Loss = {:11.4f}, Validation Accuracy = {:.4f}'.format (loss, valid_acc))\n",
    "    "
   ]
  },
  {
   "cell_type": "markdown",
   "metadata": {
    "deletable": true,
    "editable": true
   },
   "source": [
    "### Hyperparameters\n",
    "Tune the following parameters:\n",
    "* Set `epochs` to the number of iterations until the network stops learning or start overfitting\n",
    "* Set `batch_size` to the highest number that your machine has memory for.  Most people set them to common sizes of memory:\n",
    " * 64\n",
    " * 128\n",
    " * 256\n",
    " * ...\n",
    "* Set `keep_probability` to the probability of keeping a node using dropout"
   ]
  },
  {
   "cell_type": "code",
   "execution_count": 15,
   "metadata": {
    "collapsed": true,
    "deletable": true,
    "editable": true
   },
   "outputs": [],
   "source": [
    "# TODO: Tune Parameters\n",
    "epochs = 1000\n",
    "batch_size = 128\n",
    "keep_probability = 1.0"
   ]
  },
  {
   "cell_type": "markdown",
   "metadata": {
    "deletable": true,
    "editable": true
   },
   "source": [
    "### Train on a Single CIFAR-10 Batch\n",
    "Instead of training the neural network on all the CIFAR-10 batches of data, let's use a single batch. This should save time while you iterate on the model to get a better accuracy.  Once the final validation accuracy is 50% or greater, run the model on all the data in the next section."
   ]
  },
  {
   "cell_type": "code",
   "execution_count": null,
   "metadata": {
    "collapsed": false,
    "deletable": true,
    "editable": true
   },
   "outputs": [],
   "source": [
    "\"\"\"\n",
    "DON'T MODIFY ANYTHING IN THIS CELL\n",
    "\"\"\"\n",
    "print('Checking the Training on a Single Batch...')\n",
    "with tf.Session() as sess:\n",
    "    # Initializing the variables\n",
    "    sess.run(tf.global_variables_initializer())\n",
    "    \n",
    "    # Training cycle\n",
    "    for epoch in range(epochs):\n",
    "        batch_i = 1\n",
    "        for batch_features, batch_labels in helper.load_preprocess_training_batch(batch_i, batch_size):\n",
    "            train_neural_network(sess, optimizer, keep_probability, batch_features, batch_labels)\n",
    "        print('Epoch {:>2}, CIFAR-10 Batch {}:  '.format(epoch + 1, batch_i), end='')\n",
    "        print_stats(sess, batch_features, batch_labels, cost, accuracy)"
   ]
  },
  {
   "cell_type": "markdown",
   "metadata": {
    "deletable": true,
    "editable": true
   },
   "source": [
    "### Fully Train the Model\n",
    "Now that you got a good accuracy with a single CIFAR-10 batch, try it with all five batches."
   ]
  },
  {
   "cell_type": "code",
   "execution_count": null,
   "metadata": {
    "collapsed": false,
    "deletable": true,
    "editable": true
   },
   "outputs": [
    {
     "name": "stdout",
     "output_type": "stream",
     "text": [
      "Training...\n",
      "Epoch  1, CIFAR-10 Batch 1:  Loss = 340736.5000, Validation Accuracy = 0.2428\n",
      "Epoch  1, CIFAR-10 Batch 2:  Loss = 203407.6094, Validation Accuracy = 0.2788\n",
      "Epoch  1, CIFAR-10 Batch 3:  Loss = 115527.1250, Validation Accuracy = 0.3120\n",
      "Epoch  1, CIFAR-10 Batch 4:  Loss =  91999.7578, Validation Accuracy = 0.3148\n",
      "Epoch  1, CIFAR-10 Batch 5:  Loss = 111079.0625, Validation Accuracy = 0.3324\n",
      "Save model...\n",
      "Epoch  2, CIFAR-10 Batch 1:  Loss = 126130.7344, Validation Accuracy = 0.3212\n",
      "Epoch  2, CIFAR-10 Batch 2:  Loss =  62849.7617, Validation Accuracy = 0.3262\n",
      "Epoch  2, CIFAR-10 Batch 3:  Loss =  67674.7422, Validation Accuracy = 0.3438\n",
      "Epoch  2, CIFAR-10 Batch 4:  Loss =  49153.4375, Validation Accuracy = 0.3404\n",
      "Epoch  2, CIFAR-10 Batch 5:  Loss =  57279.6094, Validation Accuracy = 0.3502\n",
      "Epoch  3, CIFAR-10 Batch 1:  Loss =  71883.9844, Validation Accuracy = 0.3490\n",
      "Epoch  3, CIFAR-10 Batch 2:  Loss =  44543.1016, Validation Accuracy = 0.3442\n",
      "Epoch  3, CIFAR-10 Batch 3:  Loss =  45180.2461, Validation Accuracy = 0.3504\n",
      "Epoch  3, CIFAR-10 Batch 4:  Loss =  26439.9707, Validation Accuracy = 0.3460\n",
      "Epoch  3, CIFAR-10 Batch 5:  Loss =  39633.1992, Validation Accuracy = 0.3644\n",
      "Epoch  4, CIFAR-10 Batch 1:  Loss =  47507.0352, Validation Accuracy = 0.3620\n",
      "Epoch  4, CIFAR-10 Batch 2:  Loss =  33096.2148, Validation Accuracy = 0.3600\n",
      "Epoch  4, CIFAR-10 Batch 3:  Loss =  23842.4238, Validation Accuracy = 0.3712\n",
      "Epoch  4, CIFAR-10 Batch 4:  Loss =  18275.0020, Validation Accuracy = 0.3544\n",
      "Epoch  4, CIFAR-10 Batch 5:  Loss =  26062.4648, Validation Accuracy = 0.3716\n",
      "Epoch  5, CIFAR-10 Batch 1:  Loss =  30554.0078, Validation Accuracy = 0.3608\n",
      "Epoch  5, CIFAR-10 Batch 2:  Loss =  19881.3516, Validation Accuracy = 0.3572\n",
      "Epoch  5, CIFAR-10 Batch 3:  Loss =  12801.1553, Validation Accuracy = 0.3734\n",
      "Epoch  5, CIFAR-10 Batch 4:  Loss =   9210.1504, Validation Accuracy = 0.3596\n",
      "Epoch  5, CIFAR-10 Batch 5:  Loss =  19854.7109, Validation Accuracy = 0.3754\n",
      "Epoch  6, CIFAR-10 Batch 1:  Loss =  21146.9941, Validation Accuracy = 0.3760\n",
      "Epoch  6, CIFAR-10 Batch 2:  Loss =  10670.2969, Validation Accuracy = 0.3742\n",
      "Epoch  6, CIFAR-10 Batch 3:  Loss =   7440.7651, Validation Accuracy = 0.3772\n",
      "Epoch  6, CIFAR-10 Batch 4:  Loss =   6094.9961, Validation Accuracy = 0.3738\n",
      "Epoch  6, CIFAR-10 Batch 5:  Loss =  16080.6289, Validation Accuracy = 0.3634\n",
      "Epoch  7, CIFAR-10 Batch 1:  Loss =  12640.4922, Validation Accuracy = 0.3774\n",
      "Epoch  7, CIFAR-10 Batch 2:  Loss =   6796.1230, Validation Accuracy = 0.3650\n",
      "Epoch  7, CIFAR-10 Batch 3:  Loss =   6213.2715, Validation Accuracy = 0.3732\n",
      "Epoch  7, CIFAR-10 Batch 4:  Loss =   3638.5972, Validation Accuracy = 0.3748\n",
      "Epoch  7, CIFAR-10 Batch 5:  Loss =  10054.5186, Validation Accuracy = 0.3744\n",
      "Epoch  8, CIFAR-10 Batch 1:  Loss =  10082.4844, Validation Accuracy = 0.3780\n",
      "Epoch  8, CIFAR-10 Batch 2:  Loss =   5084.1533, Validation Accuracy = 0.3820\n",
      "Epoch  8, CIFAR-10 Batch 3:  Loss =   4375.5972, Validation Accuracy = 0.3852\n",
      "Epoch  8, CIFAR-10 Batch 4:  Loss =   4085.9216, Validation Accuracy = 0.3662\n",
      "Epoch  8, CIFAR-10 Batch 5:  Loss =   6470.7324, Validation Accuracy = 0.3722\n",
      "Epoch  9, CIFAR-10 Batch 1:  Loss =   8320.8594, Validation Accuracy = 0.3876\n",
      "Epoch  9, CIFAR-10 Batch 2:  Loss =   3028.6660, Validation Accuracy = 0.3786\n",
      "Epoch  9, CIFAR-10 Batch 3:  Loss =   3522.4690, Validation Accuracy = 0.3798\n",
      "Epoch  9, CIFAR-10 Batch 4:  Loss =   3303.7063, Validation Accuracy = 0.3748\n",
      "Epoch  9, CIFAR-10 Batch 5:  Loss =   4720.9150, Validation Accuracy = 0.3710\n",
      "Epoch 10, CIFAR-10 Batch 1:  Loss =   6739.2207, Validation Accuracy = 0.3900\n",
      "Epoch 10, CIFAR-10 Batch 2:  Loss =   2154.6548, Validation Accuracy = 0.3710\n",
      "Epoch 10, CIFAR-10 Batch 3:  Loss =   2291.9666, Validation Accuracy = 0.3864\n",
      "Epoch 10, CIFAR-10 Batch 4:  Loss =   2076.9131, Validation Accuracy = 0.3784\n",
      "Epoch 10, CIFAR-10 Batch 5:  Loss =   2367.4343, Validation Accuracy = 0.3722\n",
      "Epoch 11, CIFAR-10 Batch 1:  Loss =   6033.0605, Validation Accuracy = 0.3970\n",
      "Epoch 11, CIFAR-10 Batch 2:  Loss =    327.7827, Validation Accuracy = 0.3728\n",
      "Epoch 11, CIFAR-10 Batch 3:  Loss =   1899.0514, Validation Accuracy = 0.3948\n",
      "Epoch 11, CIFAR-10 Batch 4:  Loss =   1998.0920, Validation Accuracy = 0.3706\n",
      "Epoch 11, CIFAR-10 Batch 5:  Loss =   3126.1094, Validation Accuracy = 0.3700\n",
      "Save model...\n",
      "Epoch 12, CIFAR-10 Batch 1:  Loss =   6061.9414, Validation Accuracy = 0.3898\n",
      "Epoch 12, CIFAR-10 Batch 2:  Loss =   1558.2230, Validation Accuracy = 0.3532\n",
      "Epoch 12, CIFAR-10 Batch 3:  Loss =   1594.6139, Validation Accuracy = 0.3960\n",
      "Epoch 12, CIFAR-10 Batch 4:  Loss =   1466.3479, Validation Accuracy = 0.3806\n",
      "Epoch 12, CIFAR-10 Batch 5:  Loss =   2408.2598, Validation Accuracy = 0.3746\n",
      "Epoch 13, CIFAR-10 Batch 1:  Loss =   3479.8616, Validation Accuracy = 0.3978\n",
      "Epoch 13, CIFAR-10 Batch 2:  Loss =   1631.2423, Validation Accuracy = 0.3698\n",
      "Epoch 13, CIFAR-10 Batch 3:  Loss =   2073.6394, Validation Accuracy = 0.3772\n",
      "Epoch 13, CIFAR-10 Batch 4:  Loss =   2504.7290, Validation Accuracy = 0.3624\n",
      "Epoch 13, CIFAR-10 Batch 5:  Loss =   2390.2136, Validation Accuracy = 0.3778\n",
      "Epoch 14, CIFAR-10 Batch 1:  Loss =   4745.3887, Validation Accuracy = 0.3952\n",
      "Epoch 14, CIFAR-10 Batch 2:  Loss =    766.8146, Validation Accuracy = 0.3834\n",
      "Epoch 14, CIFAR-10 Batch 3:  Loss =   2893.8484, Validation Accuracy = 0.3794\n",
      "Epoch 14, CIFAR-10 Batch 4:  Loss =   1011.3684, Validation Accuracy = 0.3756\n",
      "Epoch 14, CIFAR-10 Batch 5:  Loss =   2306.9827, Validation Accuracy = 0.3624\n",
      "Epoch 15, CIFAR-10 Batch 1:  Loss =   2591.0967, Validation Accuracy = 0.3938\n",
      "Epoch 15, CIFAR-10 Batch 2:  Loss =    801.8403, Validation Accuracy = 0.3802\n",
      "Epoch 15, CIFAR-10 Batch 3:  Loss =   2631.9287, Validation Accuracy = 0.3842\n",
      "Epoch 15, CIFAR-10 Batch 4:  Loss =   2904.9751, Validation Accuracy = 0.3886\n",
      "Epoch 15, CIFAR-10 Batch 5:  Loss =   1352.3927, Validation Accuracy = 0.3686\n",
      "Epoch 16, CIFAR-10 Batch 1:  Loss =   2130.0540, Validation Accuracy = 0.4030\n",
      "Epoch 16, CIFAR-10 Batch 2:  Loss =   1486.7153, Validation Accuracy = 0.3862\n",
      "Epoch 16, CIFAR-10 Batch 3:  Loss =   2951.0793, Validation Accuracy = 0.3840\n",
      "Epoch 16, CIFAR-10 Batch 4:  Loss =   1509.8164, Validation Accuracy = 0.4008\n",
      "Epoch 16, CIFAR-10 Batch 5:  Loss =   2203.5823, Validation Accuracy = 0.3780\n",
      "Epoch 17, CIFAR-10 Batch 1:  Loss =   2615.5833, Validation Accuracy = 0.3964\n",
      "Epoch 17, CIFAR-10 Batch 2:  Loss =    974.5204, Validation Accuracy = 0.3848\n",
      "Epoch 17, CIFAR-10 Batch 3:  Loss =    980.3517, Validation Accuracy = 0.4002\n",
      "Epoch 17, CIFAR-10 Batch 4:  Loss =   1173.8345, Validation Accuracy = 0.3990\n",
      "Epoch 17, CIFAR-10 Batch 5:  Loss =   1108.2386, Validation Accuracy = 0.3874\n",
      "Epoch 18, CIFAR-10 Batch 1:  Loss =   1964.2094, Validation Accuracy = 0.3834\n",
      "Epoch 35, CIFAR-10 Batch 3:  Loss =      0.0000, Validation Accuracy = 0.3964\n",
      "Epoch 35, CIFAR-10 Batch 4:  Loss =     74.6535, Validation Accuracy = 0.4110\n",
      "Epoch 35, CIFAR-10 Batch 5:  Loss =     52.1739, Validation Accuracy = 0.3936\n",
      "Epoch 36, CIFAR-10 Batch 1:  Loss =    329.0447, Validation Accuracy = 0.4156\n",
      "Epoch 36, CIFAR-10 Batch 2:  Loss =    270.0004, Validation Accuracy = 0.4140\n",
      "Epoch 36, CIFAR-10 Batch 3:  Loss =    447.7728, Validation Accuracy = 0.4116\n",
      "Epoch 36, CIFAR-10 Batch 4:  Loss =    207.3405, Validation Accuracy = 0.4018\n",
      "Epoch 36, CIFAR-10 Batch 5:  Loss =     49.9402, Validation Accuracy = 0.3934\n",
      "Epoch 37, CIFAR-10 Batch 1:  Loss =     33.1210, Validation Accuracy = 0.4310\n",
      "Epoch 37, CIFAR-10 Batch 2:  Loss =      0.0000, Validation Accuracy = 0.4050\n",
      "Epoch 37, CIFAR-10 Batch 3:  Loss =    301.7917, Validation Accuracy = 0.4124\n",
      "Epoch 37, CIFAR-10 Batch 4:  Loss =    231.8919, Validation Accuracy = 0.4062\n",
      "Epoch 37, CIFAR-10 Batch 5:  Loss =     39.1440, Validation Accuracy = 0.4108\n",
      "Epoch 38, CIFAR-10 Batch 1:  Loss =     50.6605, Validation Accuracy = 0.4324\n",
      "Epoch 38, CIFAR-10 Batch 2:  Loss =      0.0000, Validation Accuracy = 0.4150\n",
      "Epoch 38, CIFAR-10 Batch 3:  Loss =      0.0000, Validation Accuracy = 0.4372\n",
      "Epoch 38, CIFAR-10 Batch 4:  Loss =    129.6695, Validation Accuracy = 0.4018\n",
      "Epoch 38, CIFAR-10 Batch 5:  Loss =    195.2639, Validation Accuracy = 0.4168\n",
      "Epoch 39, CIFAR-10 Batch 1:  Loss =     95.1206, Validation Accuracy = 0.4210\n",
      "Epoch 39, CIFAR-10 Batch 2:  Loss =     19.3382, Validation Accuracy = 0.4088\n",
      "Epoch 39, CIFAR-10 Batch 3:  Loss =     42.5538, Validation Accuracy = 0.4258\n",
      "Epoch 39, CIFAR-10 Batch 4:  Loss =    108.0065, Validation Accuracy = 0.4094\n",
      "Epoch 39, CIFAR-10 Batch 5:  Loss =     19.2949, Validation Accuracy = 0.3962\n",
      "Epoch 40, CIFAR-10 Batch 1:  Loss =      0.0000, Validation Accuracy = 0.4184\n",
      "Epoch 40, CIFAR-10 Batch 2:  Loss =      0.0000, Validation Accuracy = 0.4198\n",
      "Epoch 40, CIFAR-10 Batch 3:  Loss =      8.4998, Validation Accuracy = 0.4390\n",
      "Epoch 40, CIFAR-10 Batch 4:  Loss =     13.0682, Validation Accuracy = 0.4292\n",
      "Epoch 40, CIFAR-10 Batch 5:  Loss =      0.0000, Validation Accuracy = 0.4234\n",
      "Epoch 41, CIFAR-10 Batch 1:  Loss =    100.2479, Validation Accuracy = 0.4346\n",
      "Epoch 41, CIFAR-10 Batch 2:  Loss =    122.2710, Validation Accuracy = 0.4304\n",
      "Epoch 41, CIFAR-10 Batch 3:  Loss =      0.0000, Validation Accuracy = 0.4442\n",
      "Epoch 41, CIFAR-10 Batch 4:  Loss =    162.1770, Validation Accuracy = 0.4280\n",
      "Epoch 41, CIFAR-10 Batch 5:  Loss =      0.0000, Validation Accuracy = 0.4264\n",
      "Save model...\n",
      "Epoch 42, CIFAR-10 Batch 1:  Loss =      0.0000, Validation Accuracy = 0.4340\n",
      "Epoch 42, CIFAR-10 Batch 2:  Loss =      0.0000, Validation Accuracy = 0.4236\n",
      "Epoch 42, CIFAR-10 Batch 3:  Loss =      0.0000, Validation Accuracy = 0.4518\n",
      "Epoch 42, CIFAR-10 Batch 4:  Loss =      0.0000, Validation Accuracy = 0.4266\n",
      "Epoch 42, CIFAR-10 Batch 5:  Loss =     92.0414, Validation Accuracy = 0.4454\n",
      "Epoch 43, CIFAR-10 Batch 1:  Loss =      0.0000, Validation Accuracy = 0.4368\n",
      "Epoch 43, CIFAR-10 Batch 2:  Loss =    183.3780, Validation Accuracy = 0.4322\n",
      "Epoch 43, CIFAR-10 Batch 3:  Loss =      0.0000, Validation Accuracy = 0.4410\n",
      "Epoch 43, CIFAR-10 Batch 4:  Loss =      0.0000, Validation Accuracy = 0.4192\n",
      "Epoch 43, CIFAR-10 Batch 5:  Loss =      0.0000, Validation Accuracy = 0.4384\n",
      "Epoch 44, CIFAR-10 Batch 1:  Loss =      0.0000, Validation Accuracy = 0.4284\n",
      "Epoch 44, CIFAR-10 Batch 2:  Loss =      0.0000, Validation Accuracy = 0.4240\n",
      "Epoch 44, CIFAR-10 Batch 3:  Loss =    107.0386, Validation Accuracy = 0.4370\n",
      "Epoch 44, CIFAR-10 Batch 4:  Loss =      0.0000, Validation Accuracy = 0.4364\n",
      "Epoch 44, CIFAR-10 Batch 5:  Loss =      0.0000, Validation Accuracy = 0.4498\n",
      "Epoch 45, CIFAR-10 Batch 1:  Loss =      0.0000, Validation Accuracy = 0.4306\n",
      "Epoch 45, CIFAR-10 Batch 2:  Loss =     35.3584, Validation Accuracy = 0.4074\n",
      "Epoch 45, CIFAR-10 Batch 3:  Loss =      0.0000, Validation Accuracy = 0.4402\n",
      "Epoch 45, CIFAR-10 Batch 4:  Loss =     99.7424, Validation Accuracy = 0.4380\n",
      "Epoch 45, CIFAR-10 Batch 5:  Loss =     59.4479, Validation Accuracy = 0.4600\n",
      "Epoch 46, CIFAR-10 Batch 1:  Loss =      0.0000, Validation Accuracy = 0.4296\n",
      "Epoch 46, CIFAR-10 Batch 2:  Loss =      0.0000, Validation Accuracy = 0.4354\n",
      "Epoch 46, CIFAR-10 Batch 3:  Loss =    172.8311, Validation Accuracy = 0.4496\n",
      "Epoch 46, CIFAR-10 Batch 4:  Loss =      0.0000, Validation Accuracy = 0.4442\n",
      "Epoch 46, CIFAR-10 Batch 5:  Loss =      0.0000, Validation Accuracy = 0.4562\n",
      "Epoch 47, CIFAR-10 Batch 1:  Loss =      0.0000, Validation Accuracy = 0.4342\n",
      "Epoch 47, CIFAR-10 Batch 2:  Loss =      0.0000, Validation Accuracy = 0.4246\n",
      "Epoch 47, CIFAR-10 Batch 3:  Loss =      0.0000, Validation Accuracy = 0.4376\n",
      "Epoch 47, CIFAR-10 Batch 4:  Loss =     32.5465, Validation Accuracy = 0.4318\n",
      "Epoch 47, CIFAR-10 Batch 5:  Loss =      0.0000, Validation Accuracy = 0.4454\n",
      "Epoch 48, CIFAR-10 Batch 1:  Loss =     22.3151, Validation Accuracy = 0.4352\n",
      "Epoch 48, CIFAR-10 Batch 2:  Loss =     53.0814, Validation Accuracy = 0.4086\n",
      "Epoch 48, CIFAR-10 Batch 3:  Loss =    108.1771, Validation Accuracy = 0.4414\n",
      "Epoch 48, CIFAR-10 Batch 4:  Loss =      0.0000, Validation Accuracy = 0.4454\n",
      "Epoch 48, CIFAR-10 Batch 5:  Loss =      0.0000, Validation Accuracy = 0.4450\n",
      "Epoch 49, CIFAR-10 Batch 1:  Loss =     16.0306, Validation Accuracy = 0.4246\n",
      "Epoch 49, CIFAR-10 Batch 2:  Loss =      0.0000, Validation Accuracy = 0.4388\n",
      "Epoch 49, CIFAR-10 Batch 3:  Loss =      0.0000, Validation Accuracy = 0.4414\n"
     ]
    }
   ],
   "source": [
    "\"\"\"\n",
    "DON'T MODIFY ANYTHING IN THIS CELL\n",
    "\"\"\"\n",
    "save_model_path = './image_classification'\n",
    "\n",
    "print('Training...')\n",
    "with tf.Session() as sess:\n",
    "    # Initializing the variables\n",
    "    sess.run(tf.global_variables_initializer())\n",
    "    \n",
    "    # Training cycle\n",
    "    for epoch in range(epochs):\n",
    "        # Loop over all batches\n",
    "        n_batches = 5\n",
    "        for batch_i in range(1, n_batches + 1):\n",
    "            for batch_features, batch_labels in helper.load_preprocess_training_batch(batch_i, batch_size):\n",
    "                train_neural_network(sess, optimizer, keep_probability, batch_features, batch_labels)\n",
    "            print('Epoch {:>2}, CIFAR-10 Batch {}:  '.format(epoch + 1, batch_i), end='')\n",
    "            print_stats(sess, batch_features, batch_labels, cost, accuracy)\n",
    "            \n",
    "        if epoch % 10 == 0:\n",
    "            # Save Model\n",
    "            print (\"Save model...\")\n",
    "            saver = tf.train.Saver()\n",
    "            save_path = saver.save(sess, save_model_path)                \n",
    "            \n",
    "    # Save Model\n",
    "    saver = tf.train.Saver()\n",
    "    save_path = saver.save(sess, save_model_path)"
   ]
  },
  {
   "cell_type": "markdown",
   "metadata": {
    "deletable": true,
    "editable": true
   },
   "source": [
    "# Checkpoint\n",
    "The model has been saved to disk.\n",
    "## Test Model\n",
    "Test your model against the test dataset.  This will be your final accuracy. You should have an accuracy greater than 50%. If you don't, keep tweaking the model architecture and parameters."
   ]
  },
  {
   "cell_type": "code",
   "execution_count": 3,
   "metadata": {
    "collapsed": false,
    "deletable": true,
    "editable": true
   },
   "outputs": [
    {
     "name": "stdout",
     "output_type": "stream",
     "text": [
      "Testing Accuracy: 0.5240843949044586\n",
      "\n"
     ]
    },
    {
     "data": {
      "image/png": "[encoded data removed]",
      "text/plain": [
       "<matplotlib.figure.Figure at 0x7f27b77e90b8>"
      ]
     },
     "metadata": {
      "image/png": {
       "height": 319,
       "width": 349
      }
     },
     "output_type": "display_data"
    }
   ],
   "source": [
    "\"\"\"\n",
    "DON'T MODIFY ANYTHING IN THIS CELL\n",
    "\"\"\"\n",
    "%matplotlib inline\n",
    "%config InlineBackend.figure_format = 'retina'\n",
    "\n",
    "import tensorflow as tf\n",
    "import pickle\n",
    "import helper\n",
    "import random\n",
    "\n",
    "# Set batch size if not already set\n",
    "try:\n",
    "    if batch_size:\n",
    "        pass\n",
    "except NameError:\n",
    "    batch_size = 64\n",
    "\n",
    "save_model_path = './image_classification'\n",
    "n_samples = 4\n",
    "top_n_predictions = 3\n",
    "\n",
    "def test_model():\n",
    "    \"\"\"\n",
    "    Test the saved model against the test dataset\n",
    "    \"\"\"\n",
    "\n",
    "    test_features, test_labels = pickle.load(open('preprocess_training.p', mode='rb'))\n",
    "    loaded_graph = tf.Graph()\n",
    "\n",
    "    with tf.Session(graph=loaded_graph) as sess:\n",
    "        # Load model\n",
    "        loader = tf.train.import_meta_graph(save_model_path + '.meta')\n",
    "        loader.restore(sess, save_model_path)\n",
    "\n",
    "        # Get Tensors from loaded model\n",
    "        loaded_x = loaded_graph.get_tensor_by_name('x:0')\n",
    "        loaded_y = loaded_graph.get_tensor_by_name('y:0')\n",
    "        loaded_keep_prob = loaded_graph.get_tensor_by_name('keep_prob:0')\n",
    "        loaded_logits = loaded_graph.get_tensor_by_name('logits:0')\n",
    "        loaded_acc = loaded_graph.get_tensor_by_name('accuracy:0')\n",
    "        \n",
    "        # Get accuracy in batches for memory limitations\n",
    "        test_batch_acc_total = 0\n",
    "        test_batch_count = 0\n",
    "        \n",
    "        for train_feature_batch, train_label_batch in helper.batch_features_labels(test_features, test_labels, batch_size):\n",
    "            test_batch_acc_total += sess.run(\n",
    "                loaded_acc,\n",
    "                feed_dict={loaded_x: train_feature_batch, loaded_y: train_label_batch, loaded_keep_prob: 1.0})\n",
    "            test_batch_count += 1\n",
    "\n",
    "        print('Testing Accuracy: {}\\n'.format(test_batch_acc_total/test_batch_count))\n",
    "\n",
    "        # Print Random Samples\n",
    "        random_test_features, random_test_labels = tuple(zip(*random.sample(list(zip(test_features, test_labels)), n_samples)))\n",
    "        random_test_predictions = sess.run(\n",
    "            tf.nn.top_k(tf.nn.softmax(loaded_logits), top_n_predictions),\n",
    "            feed_dict={loaded_x: random_test_features, loaded_y: random_test_labels, loaded_keep_prob: 1.0})\n",
    "        helper.display_image_predictions(random_test_features, random_test_labels, random_test_predictions)\n",
    "\n",
    "\n",
    "test_model()"
   ]
  },
  {
   "cell_type": "markdown",
   "metadata": {
    "deletable": true,
    "editable": true
   },
   "source": [
    "## Why 50-80% Accuracy?\n",
    "You might be wondering why you can't get an accuracy any higher. First things first, 50% isn't bad for a simple CNN.  Pure guessing would get you 10% accuracy. However, you might notice people are getting scores [well above 80%](http://rodrigob.github.io/are_we_there_yet/build/classification_datasets_results.html#43494641522d3130).  That's because we haven't taught you all there is to know about neural networks. We still need to cover a few more techniques.\n",
    "## Submitting This Project\n",
    "When submitting this project, make sure to run all the cells before saving the notebook.  Save the notebook file as \"dlnd_image_classification.ipynb\" and save it as a HTML file under \"File\" -> \"Download as\".  Include the \"helper.py\" and \"problem_unittests.py\" files in your submission."
   ]
  }
 ],
 "metadata": {
  "kernelspec": {
   "display_name": "Python 3",
   "language": "python",
   "name": "python3"
  },
  "language_info": {
   "codemirror_mode": {
    "name": "ipython",
    "version": 3
   },
   "file_extension": ".py",
   "mimetype": "text/x-python",
   "name": "python",
   "nbconvert_exporter": "python",
   "pygments_lexer": "ipython3",
   "version": "3.5.2"
  },
  "widgets": {
   "state": {},
   "version": "1.1.2"
  }
 },
 "nbformat": 4,
 "nbformat_minor": 0
}
